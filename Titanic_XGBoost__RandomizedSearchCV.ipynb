{
  "nbformat": 4,
  "nbformat_minor": 0,
  "metadata": {
    "colab": {
      "private_outputs": true,
      "provenance": [],
      "authorship_tag": "ABX9TyPUGiN/E88Wxts3V6bQb02/",
      "include_colab_link": true
    },
    "kernelspec": {
      "name": "python3",
      "display_name": "Python 3"
    },
    "language_info": {
      "name": "python"
    }
  },
  "cells": [
    {
      "cell_type": "markdown",
      "metadata": {
        "id": "view-in-github",
        "colab_type": "text"
      },
      "source": [
        "<a href=\"https://colab.research.google.com/github/bonofaber/Auto-GPT-making/blob/master/Titanic_XGBoost__RandomizedSearchCV.ipynb\" target=\"_parent\"><img src=\"https://colab.research.google.com/assets/colab-badge.svg\" alt=\"Open In Colab\"/></a>"
      ]
    },
    {
      "cell_type": "code",
      "execution_count": null,
      "metadata": {
        "id": "LwPWNDsaLrDu"
      },
      "outputs": [],
      "source": [
        "# 1. 라이브러리 불러오기\n",
        "import pandas as pd\n",
        "import numpy as np\n",
        "from sklearn.model_selection import train_test_split, RandomizedSearchCV\n",
        "from sklearn.metrics import accuracy_score, classification_report\n",
        "from xgboost import XGBClassifier\n"
      ]
    },
    {
      "cell_type": "code",
      "source": [
        "# 구글 드라이브 마운트  => 인증 및 액세스 허\n",
        "from google.colab import drive\n",
        "drive.mount('/content/drive')"
      ],
      "metadata": {
        "id": "WCoAWi-kM7ur"
      },
      "execution_count": null,
      "outputs": []
    },
    {
      "cell_type": "code",
      "source": [
        "# 2. 데이터 불러오기 - kaggle 사용\n",
        "#train = pd.read_csv(\"/kaggle/input/titanic/train.csv\")\n",
        "#test = pd.read_csv(\"/kaggle/input/titanic/test.csv\")"
      ],
      "metadata": {
        "id": "kEV7Xo6NL6Cu"
      },
      "execution_count": null,
      "outputs": []
    },
    {
      "cell_type": "code",
      "source": [
        "# 경로를 실제 파일이 있는 구글 드라이브 경로로 수정\n",
        "train = pd.read_csv(\"/content/drive/MyDrive/Colab Notebooks/Titanic/train.csv\")\n",
        "test = pd.read_csv(\"/content/drive/MyDrive/Colab Notebooks/Titanic/test.csv\")\n",
        "\n",
        "print(train.head())\n",
        "print(test.head())"
      ],
      "metadata": {
        "id": "gdUGI556NSAb"
      },
      "execution_count": null,
      "outputs": []
    },
    {
      "cell_type": "code",
      "source": [
        "train.info()          # 데이터 타입, 결측치 등\n",
        "train.describe()      # 통계 요약\n",
        "#train['Sex'].value_counts()  # 범주형 분석\n",
        "train.isnull().sum()  # 결측치 개수"
      ],
      "metadata": {
        "id": "z3udKdZhRK_M"
      },
      "execution_count": null,
      "outputs": []
    },
    {
      "cell_type": "code",
      "source": [
        "# 결측치 시각화\n",
        "import missingno as msno # null data 쉽게 보여주는 library\n",
        "msno.matrix(train, figsize=(8, 3))\n",
        "msno.matrix(test, figsize=(8, 3))"
      ],
      "metadata": {
        "id": "aHjpGcquRhK9"
      },
      "execution_count": null,
      "outputs": []
    },
    {
      "cell_type": "code",
      "source": [
        "# 3. 기존 전처리\n",
        "\"\"\"\n",
        "train['Age'] = train['Age'].fillna(train['Age'].median())\n",
        "train['Embarked'] = train['Embarked'].fillna('S')\n",
        "test['Age'] = test['Age'].fillna(test['Age'].median())\n",
        "test['Fare'] = test['Fare'].fillna(test['Fare'].median())\n",
        "\n",
        "train['Sex'] = train['Sex'].map({'male': 0, 'female': 1})\n",
        "test['Sex'] = test['Sex'].map({'male': 0, 'female': 1})\n",
        "train['Embarked'] = train['Embarked'].map({'S': 0, 'C': 1, 'Q': 2})\n",
        "test['Embarked'] = test['Embarked'].map({'S': 0, 'C': 1, 'Q': 2})\n",
        "\"\"\""
      ],
      "metadata": {
        "id": "nGmWVJHRL823"
      },
      "execution_count": null,
      "outputs": []
    },
    {
      "cell_type": "code",
      "source": [
        "#3-1 전처리 수정 - 머신러닝 모델 활용 (K-Nearest Neighbors) 🤖\n",
        "\"\"\" scikit-learn의 KNNImputer 사용\n",
        " 다른 모든 수치 특성을 고려하여, 현재 행과 가장 유사한 'K'개의 이웃 데이터를 찾아 그 값들의 평균으로 결측치를 채움\n",
        " \"\"\"\n",
        "\n",
        "import pandas as pd\n",
        "from sklearn.impute import KNNImputer\n",
        "from sklearn.preprocessing import StandardScaler\n",
        "from sklearn.preprocessing import LabelEncoder\n",
        "\n",
        "\n",
        "# 2. 숫자형 특성 선택 및 스케일링\n",
        "impute_features = ['Age', 'Fare', 'Pclass', 'SibSp', 'Parch']\n",
        "\n",
        "# 스케일링 적용\n",
        "scaler = StandardScaler()\n",
        "train_scaled = scaler.fit_transform(train[impute_features])\n",
        "test_scaled = scaler.transform(test[impute_features])\n",
        "\n",
        "# KNN Imputer 적용\n",
        "imputer = KNNImputer(n_neighbors=5)\n",
        "train[impute_features] = pd.DataFrame(imputer.fit_transform(train_scaled), columns=impute_features)\n",
        "test[impute_features] = pd.DataFrame(imputer.transform(test_scaled), columns=impute_features)\n",
        "\n",
        "# 스케일링 복원 (필요한 경우)\n",
        "train[impute_features] = scaler.inverse_transform(train[impute_features])\n",
        "test[impute_features] = scaler.inverse_transform(test[impute_features])\n",
        "\n",
        "# 3. Embarked 결측치 처리 (최빈값 사용)\n",
        "train['Embarked'] = train['Embarked'].fillna(train['Embarked'].mode()[0])\n",
        "test['Embarked'] = test['Embarked'].fillna(train['Embarked'].mode()[0])\n",
        "\n",
        "# 4. 범주형 변수 인코딩\n",
        "label_encoder_sex = LabelEncoder()\n",
        "train['Sex'] = label_encoder_sex.fit_transform(train['Sex'])\n",
        "test['Sex'] = label_encoder_sex.transform(test['Sex'])\n",
        "\n",
        "label_encoder_embarked = LabelEncoder()\n",
        "train['Embarked'] = label_encoder_embarked.fit_transform(train['Embarked'])\n",
        "test['Embarked'] = label_encoder_embarked.transform(test['Embarked'])"
      ],
      "metadata": {
        "id": "U3ZnwD6ckuOV"
      },
      "execution_count": null,
      "outputs": []
    },
    {
      "cell_type": "code",
      "source": [
        "# 결측치 시각화\n",
        "import missingno as msno # null data 쉽게 보여주는 library\n",
        "msno.matrix(train, figsize=(8, 3))\n",
        "msno.matrix(test, figsize=(8, 3))"
      ],
      "metadata": {
        "id": "P3G1qU4lSPIP"
      },
      "execution_count": null,
      "outputs": []
    },
    {
      "cell_type": "code",
      "source": [
        "\n",
        "# 4. 특성 선택 및 데이터 분리\n",
        "features = ['Pclass', 'Sex', 'Age', 'SibSp', 'Parch', 'Fare', 'Embarked']\n",
        "X = train[features]\n",
        "y = train['Survived']\n",
        "X_train, X_val, y_train, y_val = train_test_split(X, y, test_size=0.2, random_state=42)\n",
        "\n",
        "# 비교) 모델 생성 및 학습\n",
        "xgb_model = XGBClassifier(use_label_encoder=False, eval_metric='logloss', random_state=42)  # 경고 방지용 옵션 포함\n",
        "xgb_model.fit(X_train, y_train)\n",
        "\n",
        "# 비교) 검증 데이터셋 예측\n",
        "y_pred = xgb_model.predict(X_val)\n",
        "\n",
        "# 비교) 성능 평가\n",
        "print(classification_report(y_val, y_pred))\n",
        "print(\"Accuracy:\", accuracy_score(y_val, y_pred))"
      ],
      "metadata": {
        "id": "H-e50EZuMAIf"
      },
      "execution_count": null,
      "outputs": []
    },
    {
      "cell_type": "code",
      "source": [
        "\n",
        "# 5. XGBoost 하이퍼파라미터 범위 지정\n",
        "xgb_params = {\n",
        "    'n_estimators': [100, 200, 300, 400, 500],\n",
        "    'max_depth': [4, 6, 8, 10, 20, 30, 40],\n",
        "    'learning_rate': [0.1, 0.2, 0.3],\n",
        "    'min_child_weight': [2, 4, 6, 8, 10],\n",
        "    'subsample': [0.2, 0.3, 0.4, 0.5, 0.6]\n",
        "}\n"
      ],
      "metadata": {
        "id": "_3rsyMoLMGG_"
      },
      "execution_count": null,
      "outputs": []
    },
    {
      "cell_type": "code",
      "source": [
        "# 6. RandomizedSearchCV 객체 생성\n",
        "xgb = XGBClassifier(use_label_encoder=False, eval_metric='logloss')  # 경고 방지를 위해 옵션 추가\n",
        "xgb_rs_cv = RandomizedSearchCV(\n",
        "    xgb,\n",
        "    param_distributions=xgb_params,\n",
        "    cv=5,               # 5-Fold 교차검증\n",
        "    n_iter=20,          # 20회 조합 시도\n",
        "    n_jobs=-1,          # 모든 CPU 사용\n",
        "    random_state=42,\n",
        "    verbose=1\n",
        ")\n"
      ],
      "metadata": {
        "id": "5eGN6cxMMIcn"
      },
      "execution_count": null,
      "outputs": []
    },
    {
      "cell_type": "code",
      "source": [
        "# 7. 튜닝 수행\n",
        "xgb_rs_cv.fit(X_train, y_train)"
      ],
      "metadata": {
        "id": "Lp5UJAB2MKmH"
      },
      "execution_count": null,
      "outputs": []
    },
    {
      "cell_type": "code",
      "source": [
        "# 8. 최적 파라미터 확인\n",
        "\n",
        "\"\"\" 당초 파라미터\n",
        "최적 하이퍼파라미터: {'subsample': 0.2, 'n_estimators': 200, 'min_child_weight': 2, 'max_depth': 6, 'learning_rate': 0.1}\n",
        "최고 정확도: 0.8272727272727274\n",
        "\"\"\"\n",
        "\n",
        "print(f\"최적 하이퍼파라미터: {xgb_rs_cv.best_params_}\")\n",
        "print(f\"최고 정확도: {xgb_rs_cv.best_score_}\")\n"
      ],
      "metadata": {
        "id": "HdB05RVMMN1X"
      },
      "execution_count": null,
      "outputs": []
    },
    {
      "cell_type": "code",
      "source": [
        "# 9. 검증셋 성능 확인\n",
        "\"\"\" 당초 결과\n",
        "              precision    recall  f1-score   support\n",
        "\n",
        "           0       0.85      0.87      0.86       105\n",
        "           1       0.81      0.78      0.79        74\n",
        "\n",
        "    accuracy                           0.83       179\n",
        "   macro avg       0.83      0.83      0.83       179\n",
        "weighted avg       0.83      0.83      0.83       179\n",
        "\n",
        "Accuracy: 0.8324022346368715\n",
        "\"\"\"\n",
        "\n",
        "best_model = xgb_rs_cv.best_estimator_\n",
        "y_pred = best_model.predict(X_val)\n",
        "print(classification_report(y_val, y_pred))\n",
        "print(\"Accuracy:\", accuracy_score(y_val, y_pred))\n"
      ],
      "metadata": {
        "id": "aSL6gclrMQLX"
      },
      "execution_count": null,
      "outputs": []
    },
    {
      "cell_type": "code",
      "source": [
        "# 10. 테스트셋 예측 및 캐글 제출 csv 생성\n",
        "X_test = test[features]\n",
        "preds = best_model.predict(X_test)\n",
        "\n",
        "submission = pd.DataFrame({\n",
        "    'PassengerId': test['PassengerId'],\n",
        "    'Survived': preds\n",
        "})\n",
        "\n",
        "#submission.to_csv('submission_xgb.csv', index=False)\n",
        "submission.to_csv('/content/drive/MyDrive/Colab Notebooks/Titanic/submission_xgb.csv', index=False)\n",
        "print(\"파일이 '/content/drive/MyDrive/Colab Notebooks/Titanic/' 폴더에 저장되었습니다.\")"
      ],
      "metadata": {
        "id": "DW_F_pxvL2l_"
      },
      "execution_count": null,
      "outputs": []
    }
  ]
}